{
 "cells": [
  {
   "cell_type": "markdown",
   "id": "4e36f085",
   "metadata": {},
   "source": [
    "## Nivell 1\n",
    "\n",
    "Treballem els conceptes de l'estructura d'una matriu, dimensió, eixos i la vectorització que ens permet reduir l'ús de for loops en operacions aritmètiques o matemàtiques..\n",
    "\n",
    "### Exercici 1\n",
    "\n",
    "Crea un np.array d'una dimensió, que inclogui l'almenys 8 nombres sencers, data type int64. Mostra la dimensió i la forma de la matriu. .\n",
    "\n"
   ]
  },
  {
   "cell_type": "code",
   "execution_count": 3,
   "id": "ae3ba400",
   "metadata": {},
   "outputs": [
    {
     "name": "stdout",
     "output_type": "stream",
     "text": [
      "[ 1  2  3  4  5  5  6 44  3]\n",
      "int64\n"
     ]
    }
   ],
   "source": [
    "import numpy as np\n",
    "\n",
    "arr = np.array([1, 2, 3, 4, 5,5,6,44,3], dtype='int64')\n",
    "\n",
    "print(arr)\n",
    "print(arr.dtype)"
   ]
  },
  {
   "cell_type": "markdown",
   "id": "3ab4a1cb",
   "metadata": {},
   "source": [
    "Estoy revisando con esta documentación: https://numpy.org/doc/stable/user/basics.types.html sobre los tipos.\n",
    "\n",
    "La dimensión de las matrices sería, 0 para a objetos únicos, 1 para arrays seguidos, 2 para matrices que se podrían hacer como las matrices bidimensionales y que aquí son como un conjunto de varios arrays con el mismo número de elementos. Para 3 dimensones sería un cubo de datos y 4 varios cubos de datos. Para más ya la imaginación es difícil de aplicar pero existen n dimensiones. "
   ]
  },
  {
   "cell_type": "code",
   "execution_count": 7,
   "id": "901a496b",
   "metadata": {},
   "outputs": [
    {
     "name": "stdout",
     "output_type": "stream",
     "text": [
      "1\n"
     ]
    }
   ],
   "source": [
    "print(arr.ndim)"
   ]
  },
  {
   "cell_type": "markdown",
   "id": "f2f8f026",
   "metadata": {},
   "source": [
    "Esta era la dimensión, ahora la forma. Para forma es cuantos elementos tiene en cada dimensión. Esto pude variar porque no es lo mismo una matriz de 3 x 2 que una de 2 x 3."
   ]
  },
  {
   "cell_type": "code",
   "execution_count": 8,
   "id": "50b77e0b",
   "metadata": {},
   "outputs": [
    {
     "name": "stdout",
     "output_type": "stream",
     "text": [
      "(9,)\n"
     ]
    }
   ],
   "source": [
    "print(arr.shape)"
   ]
  },
  {
   "cell_type": "code",
   "execution_count": null,
   "id": "d265b89a",
   "metadata": {},
   "outputs": [],
   "source": []
  }
 ],
 "metadata": {
  "kernelspec": {
   "display_name": "Python 3",
   "language": "python",
   "name": "python3"
  },
  "language_info": {
   "codemirror_mode": {
    "name": "ipython",
    "version": 3
   },
   "file_extension": ".py",
   "mimetype": "text/x-python",
   "name": "python",
   "nbconvert_exporter": "python",
   "pygments_lexer": "ipython3",
   "version": "3.8.8"
  }
 },
 "nbformat": 4,
 "nbformat_minor": 5
}
