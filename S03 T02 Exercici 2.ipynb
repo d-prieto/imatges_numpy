{
 "cells": [
  {
   "cell_type": "markdown",
   "id": "dc732024",
   "metadata": {},
   "source": [
    "## Nivell 1\n",
    "\n",
    "Treballem els conceptes de l'estructura d'una matriu, dimensió, eixos i la vectorització que ens permet reduir l'ús de for loops en operacions aritmètiques o matemàtiques..\n",
    "\n",
    "- Exercici 2\n",
    "\n",
    "De la matriu de l'exercici 1, calcula el valor mitjà dels valors introduïts i resta la mitjana resultant de cada un dels valors de la matriu."
   ]
  },
  {
   "cell_type": "code",
   "execution_count": 1,
   "id": "1205e816",
   "metadata": {},
   "outputs": [
    {
     "name": "stdout",
     "output_type": "stream",
     "text": [
      "[ 1  2  3  4  5  5  6 44  3]\n"
     ]
    }
   ],
   "source": [
    "import numpy as np\n",
    "\n",
    "arr = np.array([1, 2, 3, 4, 5,5,6,44,3], dtype='int64')\n",
    "\n",
    "print(arr)\n"
   ]
  },
  {
   "cell_type": "markdown",
   "id": "b728c974",
   "metadata": {},
   "source": [
    "La media se hace arr.mean() y la mediana con arr.median(). No obstante acabo de ver que \"mediana\" en catalán se dice \"[mediana](https://ca.wikipedia.org/wiki/Mediana)\" y no mitjana, así que usaré la media. "
   ]
  },
  {
   "cell_type": "code",
   "execution_count": 2,
   "id": "e4477a89",
   "metadata": {
    "scrolled": true
   },
   "outputs": [
    {
     "name": "stdout",
     "output_type": "stream",
     "text": [
      "8.11111111111111\n"
     ]
    }
   ],
   "source": [
    "print(arr.mean())"
   ]
  },
  {
   "cell_type": "code",
   "execution_count": 3,
   "id": "5e57da15",
   "metadata": {},
   "outputs": [],
   "source": [
    "arr2 = arr - arr.mean()"
   ]
  },
  {
   "cell_type": "code",
   "execution_count": 4,
   "id": "9f92cb01",
   "metadata": {},
   "outputs": [
    {
     "data": {
      "text/plain": [
       "array([-7.11111111, -6.11111111, -5.11111111, -4.11111111, -3.11111111,\n",
       "       -3.11111111, -2.11111111, 35.88888889, -5.11111111])"
      ]
     },
     "execution_count": 4,
     "metadata": {},
     "output_type": "execute_result"
    }
   ],
   "source": [
    "arr2"
   ]
  },
  {
   "cell_type": "code",
   "execution_count": null,
   "id": "c5a83406",
   "metadata": {},
   "outputs": [],
   "source": []
  }
 ],
 "metadata": {
  "kernelspec": {
   "display_name": "Python 3",
   "language": "python",
   "name": "python3"
  },
  "language_info": {
   "codemirror_mode": {
    "name": "ipython",
    "version": 3
   },
   "file_extension": ".py",
   "mimetype": "text/x-python",
   "name": "python",
   "nbconvert_exporter": "python",
   "pygments_lexer": "ipython3",
   "version": "3.8.8"
  }
 },
 "nbformat": 4,
 "nbformat_minor": 5
}
