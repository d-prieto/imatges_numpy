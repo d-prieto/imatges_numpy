{
 "cells": [
  {
   "cell_type": "markdown",
   "id": "54355ac6",
   "metadata": {},
   "source": [
    "## Nivell 2\n",
    "\n",
    "Treballem els conceptes de l'estructura d'una matriu, Broadcasting, indexació, Mask..\n",
    "\n",
    "- Exercici 5\n",
    "\n",
    "Utilitza la Indexació per extreure els valors d'una columna i una fila de la matriu. I suma els seus valors."
   ]
  },
  {
   "cell_type": "code",
   "execution_count": 1,
   "id": "53858cf2",
   "metadata": {},
   "outputs": [],
   "source": [
    "import numpy as np"
   ]
  },
  {
   "cell_type": "markdown",
   "id": "e4f4b800",
   "metadata": {},
   "source": [
    "Tomo la matriz a partir de lo que [ha hecho mi compañero Leo](https://github.com/leobioinf0/imatges_numpy/blob/master/S03_T02_Estructura_duna_Matriu.ipynb) para hacer una matriz muy chula de base:"
   ]
  },
  {
   "cell_type": "code",
   "execution_count": 2,
   "id": "a90e3cee",
   "metadata": {},
   "outputs": [
    {
     "data": {
      "text/plain": [
       "matrix([[2, 2, 6, 1, 3],\n",
       "        [6, 1, 0, 1, 0],\n",
       "        [0, 3, 4, 0, 0],\n",
       "        [4, 1, 7, 3, 2],\n",
       "        [4, 7, 2, 4, 8]])"
      ]
     },
     "execution_count": 2,
     "metadata": {},
     "output_type": "execute_result"
    }
   ],
   "source": [
    "rng = np.random.RandomState(123)\n",
    "np_matrix = np.matrix(rng.randint(0, high=9, size=(5, 5), dtype=int))\n",
    "np_matrix"
   ]
  },
  {
   "cell_type": "markdown",
   "id": "339ed17e",
   "metadata": {},
   "source": [
    "Para tomar trozos de una matriz de array hay que usar lo que el w3c llama \"slicing\" o \"rebanado\". Esto se hace para tomar trozos de arrays gordos. Aquí lo explican más https://www.w3schools.com/python/numpy/numpy_array_slicing.asp\n",
    "\n",
    "Que tu dices, sirve para tomar \"columnas\", \"filas\" pero también puede ser \"hazme una matriz con los elementos que estén en fila y columna impar\" y te lo puede sacar\n",
    "\n",
    "        Slicing arrays\n",
    "\n",
    "        Slicing in python means taking elements from one given index to another given index.\n",
    "\n",
    "        We pass slice instead of index like this: [start:end].\n",
    "\n",
    "        We can also define the step, like this: [start:end:step].\n",
    "\n",
    "        If we don't pass start its considered 0\n",
    "\n",
    "        If we don't pass end its considered length of array in that dimension\n",
    "\n",
    "        If we don't pass step its considered 1"
   ]
  },
  {
   "cell_type": "code",
   "execution_count": 3,
   "id": "55b6dd0f",
   "metadata": {},
   "outputs": [
    {
     "data": {
      "text/plain": [
       "matrix([[2, 6, 3],\n",
       "        [0, 4, 0],\n",
       "        [4, 2, 8]])"
      ]
     },
     "execution_count": 3,
     "metadata": {},
     "output_type": "execute_result"
    }
   ],
   "source": [
    "trozoMatriz= np_matrix[::2,::2]\n",
    "trozoMatriz"
   ]
  },
  {
   "cell_type": "markdown",
   "id": "c349bc84",
   "metadata": {},
   "source": [
    "No me puedo creer que eso funcionara a la primera. Vamos a volver al ejercicio y sacar una columnay una fila al azar. Porque se puede"
   ]
  },
  {
   "cell_type": "code",
   "execution_count": 11,
   "id": "f28eaf0e",
   "metadata": {},
   "outputs": [
    {
     "data": {
      "text/plain": [
       "matrix([[2, 2, 6, 1, 3]])"
      ]
     },
     "execution_count": 11,
     "metadata": {},
     "output_type": "execute_result"
    }
   ],
   "source": [
    "fila = np_matrix[rng.randint(0,4),:]\n",
    "fila"
   ]
  },
  {
   "cell_type": "code",
   "execution_count": 13,
   "id": "9a2bcab8",
   "metadata": {},
   "outputs": [
    {
     "data": {
      "text/plain": [
       "matrix([[2],\n",
       "        [6],\n",
       "        [0],\n",
       "        [4],\n",
       "        [4]])"
      ]
     },
     "execution_count": 13,
     "metadata": {},
     "output_type": "execute_result"
    }
   ],
   "source": [
    "columna = np_matrix[:,rng.randint(0,4)]\n",
    "columna"
   ]
  },
  {
   "cell_type": "markdown",
   "id": "c73c9b9e",
   "metadata": {},
   "source": [
    "Tenemos dos alternativas de suma, podemos hacer la suma con el expandido o podemos girar una de las dos matrices (la segunda) para que nos salga un array. O incluso podemos sumarlo todo a piñon y tener el mega total. Vamos a hacer las 3 opciones"
   ]
  },
  {
   "cell_type": "code",
   "execution_count": 14,
   "id": "a291b585",
   "metadata": {},
   "outputs": [
    {
     "data": {
      "text/plain": [
       "30"
      ]
     },
     "execution_count": 14,
     "metadata": {},
     "output_type": "execute_result"
    }
   ],
   "source": [
    "fila.sum()+columna.sum()"
   ]
  },
  {
   "cell_type": "markdown",
   "id": "82b6c58f",
   "metadata": {},
   "source": [
    "Sumar todos los valores era fácil, claro. "
   ]
  },
  {
   "cell_type": "code",
   "execution_count": 18,
   "id": "563e3f6f",
   "metadata": {},
   "outputs": [
    {
     "data": {
      "text/plain": [
       "matrix([[2, 6, 0, 4, 4]])"
      ]
     },
     "execution_count": 18,
     "metadata": {},
     "output_type": "execute_result"
    }
   ],
   "source": [
    "columnaEnFila = columna.reshape(5)\n",
    "columnaEnFila"
   ]
  },
  {
   "cell_type": "code",
   "execution_count": 19,
   "id": "de4ba8fe",
   "metadata": {},
   "outputs": [
    {
     "data": {
      "text/plain": [
       "matrix([[4, 8, 6, 5, 7]])"
      ]
     },
     "execution_count": 19,
     "metadata": {},
     "output_type": "execute_result"
    }
   ],
   "source": [
    "fila+columnaEnFila"
   ]
  },
  {
   "cell_type": "markdown",
   "id": "680c2db2",
   "metadata": {},
   "source": [
    "Esta sería la opción de girar la columna y sumarle la fila. Esto sólo es posible porque la matriz original es cuadrada. "
   ]
  },
  {
   "cell_type": "code",
   "execution_count": 20,
   "id": "4609210a",
   "metadata": {},
   "outputs": [
    {
     "data": {
      "text/plain": [
       "matrix([[ 4,  4,  8,  3,  5],\n",
       "        [ 8,  8, 12,  7,  9],\n",
       "        [ 2,  2,  6,  1,  3],\n",
       "        [ 6,  6, 10,  5,  7],\n",
       "        [ 6,  6, 10,  5,  7]])"
      ]
     },
     "execution_count": 20,
     "metadata": {},
     "output_type": "execute_result"
    }
   ],
   "source": [
    "fila+columna"
   ]
  },
  {
   "cell_type": "markdown",
   "id": "c7b08f32",
   "metadata": {},
   "source": [
    "Esta es la opción den hacer el broadcast. Nótese que el array anterior en este caso es la diagonal de valores. Por lo visto para hacer eso existe np.diagonal(array). Probémoslo ya que estamos. https://numpy.org/doc/stable/reference/generated/numpy.diagonal.html"
   ]
  },
  {
   "cell_type": "code",
   "execution_count": 21,
   "id": "47c45ca8",
   "metadata": {},
   "outputs": [
    {
     "data": {
      "text/plain": [
       "array([4, 8, 6, 5, 7])"
      ]
     },
     "execution_count": 21,
     "metadata": {},
     "output_type": "execute_result"
    }
   ],
   "source": [
    "np.diagonal(fila+columna)"
   ]
  },
  {
   "cell_type": "markdown",
   "id": "6a7450c0",
   "metadata": {},
   "source": [
    "La única diferencia que veo es que el objeto es un array y no una matrix peeero funciona = D"
   ]
  },
  {
   "cell_type": "code",
   "execution_count": null,
   "id": "65f305e0",
   "metadata": {},
   "outputs": [],
   "source": []
  }
 ],
 "metadata": {
  "kernelspec": {
   "display_name": "Python 3",
   "language": "python",
   "name": "python3"
  },
  "language_info": {
   "codemirror_mode": {
    "name": "ipython",
    "version": 3
   },
   "file_extension": ".py",
   "mimetype": "text/x-python",
   "name": "python",
   "nbconvert_exporter": "python",
   "pygments_lexer": "ipython3",
   "version": "3.8.8"
  }
 },
 "nbformat": 4,
 "nbformat_minor": 5
}
