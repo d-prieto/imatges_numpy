{
 "cells": [
  {
   "cell_type": "markdown",
   "id": "ff410308",
   "metadata": {},
   "source": [
    "## Nivell 1\n",
    "\n",
    "Treballem els conceptes de l'estructura d'una matriu, dimensió, eixos i la vectorització que ens permet reduir l'ús de for loops en operacions aritmètiques o matemàtiques..\n",
    "\n",
    "- Exercici 3\n",
    "\n",
    "Crea una matriu bidimensional amb una forma de 5 x 5. Extreu el valor màxim de la matriu, i els valors màxims de cadascun dels seus eixos.\n"
   ]
  },
  {
   "cell_type": "code",
   "execution_count": 9,
   "id": "40e25681",
   "metadata": {},
   "outputs": [
    {
     "name": "stdout",
     "output_type": "stream",
     "text": [
      "[[1 2 3 4 5]\n",
      " [1 5 3 4 5]\n",
      " [1 2 6 4 5]\n",
      " [1 2 3 7 7]\n",
      " [5 2 3 4 5]]\n"
     ]
    }
   ],
   "source": [
    "import numpy as np\n",
    "\n",
    "arr = np.array([[1, 2, 3, 4, 5],\n",
    "               [1, 5, 3, 4, 5],\n",
    "               [1, 2, 6, 4, 5],\n",
    "               [1, 2, 3, 7, 7],\n",
    "               [5, 2, 3, 4, 5]])\n",
    "\n",
    "print(arr)"
   ]
  },
  {
   "cell_type": "markdown",
   "id": "e1556aa4",
   "metadata": {},
   "source": [
    "Aquí aprendo cómo colocar de forma \"visual\" una matriz. Para hacer los máximos y mínimos es arr.max() y para hacerlo por ejes es arr.max(axis=0) o arr.max(axis=1)"
   ]
  },
  {
   "cell_type": "code",
   "execution_count": 6,
   "id": "71aee98d",
   "metadata": {},
   "outputs": [
    {
     "name": "stdout",
     "output_type": "stream",
     "text": [
      "7\n"
     ]
    }
   ],
   "source": [
    "print(arr.max())"
   ]
  },
  {
   "cell_type": "code",
   "execution_count": 10,
   "id": "e7decaba",
   "metadata": {},
   "outputs": [
    {
     "name": "stdout",
     "output_type": "stream",
     "text": [
      "[5 5 6 7 7]\n"
     ]
    }
   ],
   "source": [
    "print(arr.max(axis=0))"
   ]
  },
  {
   "cell_type": "code",
   "execution_count": 11,
   "id": "e0a1c12e",
   "metadata": {},
   "outputs": [
    {
     "name": "stdout",
     "output_type": "stream",
     "text": [
      "[5 5 6 7 5]\n"
     ]
    }
   ],
   "source": [
    "print(arr.max(axis=1))"
   ]
  },
  {
   "cell_type": "markdown",
   "id": "77ea3146",
   "metadata": {},
   "source": [
    "Tuve que hacer un par de cambios para que la matriz no tuviera los máximos por ejes iguales. Ahora sí puede verse más claramente que el eje 0 son las columnas y el eje 1 son las filas en este tipo de representación. "
   ]
  },
  {
   "cell_type": "code",
   "execution_count": null,
   "id": "dc7c8045",
   "metadata": {},
   "outputs": [],
   "source": []
  }
 ],
 "metadata": {
  "kernelspec": {
   "display_name": "Python 3",
   "language": "python",
   "name": "python3"
  },
  "language_info": {
   "codemirror_mode": {
    "name": "ipython",
    "version": 3
   },
   "file_extension": ".py",
   "mimetype": "text/x-python",
   "name": "python",
   "nbconvert_exporter": "python",
   "pygments_lexer": "ipython3",
   "version": "3.8.8"
  }
 },
 "nbformat": 4,
 "nbformat_minor": 5
}
