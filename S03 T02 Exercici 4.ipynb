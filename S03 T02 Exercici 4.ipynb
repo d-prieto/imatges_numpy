{
 "cells": [
  {
   "cell_type": "markdown",
   "id": "9a6ffa80",
   "metadata": {},
   "source": [
    "\n",
    "## Nivell 2\n",
    "\n",
    "Treballem els conceptes de l'estructura d'una matriu, Broadcasting, indexació, Mask..\n",
    "\n",
    "- Exercici 4\n",
    "\n",
    "Mostreu-me amb exemples de diferents matrius, la regla fonamental de Broadcasting que diu : \"les matrius es poden transmetre / broadcast si les seves dimensions coincideixen o si una de les matrius té una mida d'1\"."
   ]
  },
  {
   "cell_type": "code",
   "execution_count": 2,
   "id": "81da3695",
   "metadata": {},
   "outputs": [],
   "source": [
    "import numpy as np\n",
    "\n",
    "\n",
    "a = np.array(42)\n",
    "b = np.array([1, 2, 3, 4, 5])\n",
    "c = np.array([[1, 2, 3], [4, 5, 6]])\n",
    "d = np.array([[[1, 2, 3], [4, 5, 6]], [[1, 2, 3], [4, 5, 6]]])"
   ]
  },
  {
   "cell_type": "markdown",
   "id": "f41aecb0",
   "metadata": {},
   "source": [
    "Para esto me he revisado la información que hay en la documentación oficial de numpy:\n",
    "\n",
    "https://numpy.org/doc/stable/user/theory.broadcasting.html#array-broadcasting-in-numpy\n",
    "\n",
    "Básicamente el broadcasting es el sistema de que cuando tú le haces hacer una operación de dos arrays entre sí, qué hace numpy con su vida. En especial cuando no tienen la misma forma.\n",
    "\n",
    "La forma más sencilla es que mira, que si le mandas a operar y el array tiene dimensión 0 pues todos por ese número y ya está. También que tengan la misma forma. Por ejemplo:"
   ]
  },
  {
   "cell_type": "code",
   "execution_count": 3,
   "id": "7f3087c9",
   "metadata": {},
   "outputs": [
    {
     "data": {
      "text/plain": [
       "array([ 42,  84, 126, 168, 210])"
      ]
     },
     "execution_count": 3,
     "metadata": {},
     "output_type": "execute_result"
    }
   ],
   "source": [
    "j = b * a\n",
    "j"
   ]
  },
  {
   "cell_type": "markdown",
   "id": "415e9309",
   "metadata": {},
   "source": [
    "o que tengan exactamente la misma forma:"
   ]
  },
  {
   "cell_type": "code",
   "execution_count": 6,
   "id": "768b50aa",
   "metadata": {},
   "outputs": [
    {
     "data": {
      "text/plain": [
       "array([[ 1,  4,  9],\n",
       "       [16, 25, 36]])"
      ]
     },
     "execution_count": 6,
     "metadata": {},
     "output_type": "execute_result"
    }
   ],
   "source": [
    "k = c * c\n",
    "k"
   ]
  },
  {
   "cell_type": "markdown",
   "id": "416069f0",
   "metadata": {},
   "source": [
    "(que curiosa forma de poner números cuadrados) \n",
    "\n",
    "ahora bien, suponte que tenemos dos matrices de dimensión 1. Si las sumamos o multiplicamos ocurrirá lo siguiente: "
   ]
  },
  {
   "cell_type": "code",
   "execution_count": 7,
   "id": "596fb096",
   "metadata": {},
   "outputs": [
    {
     "ename": "ValueError",
     "evalue": "operands could not be broadcast together with shapes (5,) (6,) ",
     "output_type": "error",
     "traceback": [
      "\u001b[1;31m---------------------------------------------------------------------------\u001b[0m",
      "\u001b[1;31mValueError\u001b[0m                                Traceback (most recent call last)",
      "\u001b[1;32m<ipython-input-7-91f684d8d06e>\u001b[0m in \u001b[0;36m<module>\u001b[1;34m\u001b[0m\n\u001b[0;32m      1\u001b[0m \u001b[0mb\u001b[0m \u001b[1;33m=\u001b[0m \u001b[0mnp\u001b[0m\u001b[1;33m.\u001b[0m\u001b[0marray\u001b[0m\u001b[1;33m(\u001b[0m\u001b[1;33m[\u001b[0m\u001b[1;36m1\u001b[0m\u001b[1;33m,\u001b[0m \u001b[1;36m2\u001b[0m\u001b[1;33m,\u001b[0m \u001b[1;36m3\u001b[0m\u001b[1;33m,\u001b[0m \u001b[1;36m4\u001b[0m\u001b[1;33m,\u001b[0m \u001b[1;36m5\u001b[0m\u001b[1;33m]\u001b[0m\u001b[1;33m)\u001b[0m\u001b[1;33m\u001b[0m\u001b[1;33m\u001b[0m\u001b[0m\n\u001b[0;32m      2\u001b[0m \u001b[0me\u001b[0m \u001b[1;33m=\u001b[0m \u001b[0mnp\u001b[0m\u001b[1;33m.\u001b[0m\u001b[0marray\u001b[0m\u001b[1;33m(\u001b[0m\u001b[1;33m[\u001b[0m\u001b[1;36m1\u001b[0m\u001b[1;33m,\u001b[0m \u001b[1;36m2\u001b[0m\u001b[1;33m,\u001b[0m \u001b[1;36m3\u001b[0m\u001b[1;33m,\u001b[0m \u001b[1;36m4\u001b[0m\u001b[1;33m,\u001b[0m \u001b[1;36m5\u001b[0m\u001b[1;33m,\u001b[0m \u001b[1;36m6\u001b[0m\u001b[1;33m]\u001b[0m\u001b[1;33m)\u001b[0m\u001b[1;33m\u001b[0m\u001b[1;33m\u001b[0m\u001b[0m\n\u001b[1;32m----> 3\u001b[1;33m \u001b[0mb\u001b[0m\u001b[1;33m+\u001b[0m\u001b[0me\u001b[0m\u001b[1;33m\u001b[0m\u001b[1;33m\u001b[0m\u001b[0m\n\u001b[0m",
      "\u001b[1;31mValueError\u001b[0m: operands could not be broadcast together with shapes (5,) (6,) "
     ]
    }
   ],
   "source": [
    "b = np.array([1, 2, 3, 4, 5])\n",
    "e = np.array([1, 2, 3, 4, 5, 6])\n",
    "b+e"
   ]
  },
  {
   "cell_type": "markdown",
   "id": "fbfea392",
   "metadata": {},
   "source": [
    "Nos da error porque la forma no coincide, no sabe con qué sumar el sexto número, y no se lo va a inventar numpy. Para hacer esa suma tendríamos que girar el primer array (o el segundo y entonces sumarlos. Y claro, al sumarlos lo que hará es estirar los valores de uno y otro lado, combinándolos y creando una matriz de 5x6 (o de 6x5)\n",
    "\n",
    "En el ejemplo de la documentación de numpy \n"
   ]
  },
  {
   "cell_type": "code",
   "execution_count": 9,
   "id": "3c04c80d",
   "metadata": {},
   "outputs": [
    {
     "data": {
      "text/plain": [
       "array([[ 2,  3,  4,  5,  6,  7],\n",
       "       [ 3,  4,  5,  6,  7,  8],\n",
       "       [ 4,  5,  6,  7,  8,  9],\n",
       "       [ 5,  6,  7,  8,  9, 10],\n",
       "       [ 6,  7,  8,  9, 10, 11]])"
      ]
     },
     "execution_count": 9,
     "metadata": {},
     "output_type": "execute_result"
    }
   ],
   "source": [
    "b = np.array([1, 2, 3, 4, 5])\n",
    "e = np.array([1, 2, 3, 4, 5, 6])\n",
    "k = b.reshape(5,1)\n",
    "k + e"
   ]
  },
  {
   "cell_type": "code",
   "execution_count": null,
   "id": "18ba983f",
   "metadata": {},
   "outputs": [],
   "source": []
  }
 ],
 "metadata": {
  "kernelspec": {
   "display_name": "Python 3",
   "language": "python",
   "name": "python3"
  },
  "language_info": {
   "codemirror_mode": {
    "name": "ipython",
    "version": 3
   },
   "file_extension": ".py",
   "mimetype": "text/x-python",
   "name": "python",
   "nbconvert_exporter": "python",
   "pygments_lexer": "ipython3",
   "version": "3.8.8"
  }
 },
 "nbformat": 4,
 "nbformat_minor": 5
}
